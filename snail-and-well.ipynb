{
 "cells": [
  {
   "cell_type": "markdown",
   "metadata": {},
   "source": [
    "# Snail and well\n",
    "\n",
    "A snail falls at the bottom of a 125 cm well. Each day the snail rises 30 cm. But at night, while sleeping, slides 20 cm because the walls are wet. How many days does it take to escape from the well?\n",
    "\n",
    "TIP: http://puzzles.nigelcoldwell.co.uk/sixtytwo.htm"
   ]
  },
  {
   "cell_type": "markdown",
   "metadata": {},
   "source": [
    "## Solución"
   ]
  },
  {
   "cell_type": "code",
   "execution_count": 11,
   "metadata": {},
   "outputs": [
    {
     "name": "stdout",
     "output_type": "stream",
     "text": [
      "Days = 11\n"
     ]
    }
   ],
   "source": [
    "# Assign problem data to variables with representative names\n",
    "# well height, daily advance, night retreat, accumulated distance\n",
    "well_height = 125\n",
    "daily_advance = 30\n",
    "night_retreat = 20\n",
    "accumulated_distance = 0\n",
    "\n",
    "# Assign 0 to the variable that represents the solution\n",
    "days = 0\n",
    "\n",
    "# Write the code that solves the problem\n",
    "while (well_height - daily_advance) > (accumulated_distance):\n",
    "    accumulated_distance += daily_advance\n",
    "    accumulated_distance -= night_retreat\n",
    "    days += 1\n",
    "days +=1\n",
    "# Print the result with print('Days =', days)\n",
    "print(\"Days =\", days)\n",
    "#He encontrado primero los días que tarda en quedarse a un día de recorrido y después he sumado un día al resultado, obteniendo el resultado final. "
   ]
  },
  {
   "cell_type": "markdown",
   "metadata": {},
   "source": [
    "**Expected output**: \n",
    "```\n",
    "Days = 11\n",
    "```"
   ]
  },
  {
   "cell_type": "markdown",
   "metadata": {},
   "source": [
    "## Goals\n",
    "\n",
    "1. Treatment of variables\n",
    "2. Use of loop **while**\n",
    "3. Use of conditional **if-else**\n",
    "4. Print in console"
   ]
  },
  {
   "cell_type": "markdown",
   "metadata": {},
   "source": [
    "## Bonus\n",
    "The distance traveled by the snail is now defined by a list.\n",
    "```\n",
    "advance_cm = [30, 21, 33, 77, 44, 45, 23, 45, 12, 34, 55]\n",
    "```\n",
    "How long does it take to raise the well?\n",
    "\n",
    "What is its maximum displacement in one day? And its minimum?\n",
    "\n",
    "What is its average speed during the day?\n",
    "\n",
    "What is the standard deviation of its displacement during the day?"
   ]
  },
  {
   "cell_type": "code",
   "execution_count": 14,
   "metadata": {},
   "outputs": [
    {
     "name": "stdout",
     "output_type": "stream",
     "text": [
      "\n",
      "\n",
      "\n",
      "\n",
      "\n",
      "Days = 6\n"
     ]
    }
   ],
   "source": [
    "# Assign problem data to variables with representative names\n",
    "# well height, daily advance, night retreat, accumulated distance\n",
    "well_height = 125\n",
    "daily_advance = 30\n",
    "night_retreat = 20\n",
    "accumulated_distance = 0\n",
    "advance_cm = [30, 21, 33, 77, 44, 45, 23, 45, 12, 34, 55]\n",
    "# Assign 0 to the variable that represents the solution\n",
    "\n",
    "days2 = 0\n",
    "# Write the code that solves the problem\n",
    "\n",
    "while well_height > accumulated_distance:\n",
    "    if (days2 == 0):\n",
    "        accumulated_distance += (advance_cm[0] - night_retreat)\n",
    "    elif days2 > 0:\n",
    "        if (days2 == 1):\n",
    "            accumulated_distance += (advance_cm[1] - night_retreat)\n",
    "        if (days2 == 2):\n",
    "            accumulated_distance += (advance_cm[2] - night_retreat)\n",
    "        if (days2 == 3):\n",
    "            accumulated_distance += (advance_cm[3] - night_retreat)\n",
    "        if (days2 == 4):\n",
    "            accumulated_distance += (advance_cm[4] - night_retreat)\n",
    "        if (days2 == 5):\n",
    "            accumulated_distance += (advance_cm[5] - night_retreat)\n",
    "        if (days2 == 6):\n",
    "            accumulated_distance += (advance_cm[6] - night_retreat)\n",
    "        if (days2 == 7):\n",
    "            accumulated_distance += (advance_cm[7] - night_retreat)\n",
    "        if (days2 == 8):\n",
    "            accumulated_distance += (advance_cm[8] - night_retreat)\n",
    "        if (days2 == 9):\n",
    "            accumulated_distance += (advance_cm[9] - night_retreat)\n",
    "        else: print(\"\")\n",
    "    days2 += 1\n",
    "\n",
    "# Print the result with print('Days =', days)\n",
    "print(\"Days =\", days2)"
   ]
  },
  {
   "cell_type": "markdown",
   "metadata": {},
   "source": [
    "**Expected output**: \n",
    "```\n",
    "Days = 6\n",
    "```"
   ]
  },
  {
   "cell_type": "code",
   "execution_count": 18,
   "metadata": {},
   "outputs": [
    {
     "name": "stdout",
     "output_type": "stream",
     "text": [
      "77 is the snail´s maximum displacement\n",
      "12 is the snail´s minimum displacement\n"
     ]
    }
   ],
   "source": [
    "# What is its maximum displacement in a day? And its minimum?\n",
    "maximum_displacement = max(advance_cm)\n",
    "print(maximum_displacement, \"is the snail´s maximum displacement\")\n",
    "\n",
    "minimum_displacement = min(advance_cm)\n",
    "print(minimum_displacement, \"is the snail´s minimum displacement\")\n"
   ]
  },
  {
   "cell_type": "markdown",
   "metadata": {},
   "source": [
    "**Expected output**: \n",
    "```\n",
    "77 12\n",
    "```"
   ]
  },
  {
   "cell_type": "code",
   "execution_count": 20,
   "metadata": {},
   "outputs": [
    {
     "name": "stdout",
     "output_type": "stream",
     "text": [
      "38.09090909090909 is the snail´s average displacement\n"
     ]
    }
   ],
   "source": [
    "# What is its average progress?\n",
    "average_displacement = (sum(advance_cm)/len(advance_cm))\n",
    "print(average_displacement, \"is the snail´s average displacement\")"
   ]
  },
  {
   "cell_type": "markdown",
   "metadata": {},
   "source": [
    "**Expected output**: \n",
    "```\n",
    "38.09090909090909\n",
    "```"
   ]
  },
  {
   "cell_type": "code",
   "execution_count": 41,
   "metadata": {},
   "outputs": [
    {
     "name": "stdout",
     "output_type": "stream",
     "text": [
      "17.18427110917769\n"
     ]
    }
   ],
   "source": [
    "# What is the standard deviation of your displacement during the day?\n",
    "import math\n",
    "sumatorio = (advance_cm[0] - average_displacement)**2 + (advance_cm[1] - average_displacement)**2 + (advance_cm[2] - average_displacement)**2 + (advance_cm[3] - average_displacement)**2 + (advance_cm[4] - average_displacement)**2 + (advance_cm[5] - average_displacement)**2 + (advance_cm[6] - average_displacement)**2 + (advance_cm[7] - average_displacement)**2 + (advance_cm[8] - average_displacement)**2 + (advance_cm[9] - average_displacement)**2\n",
    "division = sumatorio/(len(advance_cm) - 1)\n",
    "standard_deviation = math.sqrt(division)\n",
    "print(standard_deviation)\n"
   ]
  },
  {
   "cell_type": "markdown",
   "metadata": {},
   "source": [
    "**Expected output**: \n",
    "```\n",
    "17.159437082600803\n",
    "```"
   ]
  }
 ],
 "metadata": {
  "kernelspec": {
   "display_name": "Python 3",
   "language": "python",
   "name": "python3"
  },
  "language_info": {
   "codemirror_mode": {
    "name": "ipython",
    "version": 3
   },
   "file_extension": ".py",
   "mimetype": "text/x-python",
   "name": "python",
   "nbconvert_exporter": "python",
   "pygments_lexer": "ipython3",
   "version": "3.8.5"
  }
 },
 "nbformat": 4,
 "nbformat_minor": 2
}
