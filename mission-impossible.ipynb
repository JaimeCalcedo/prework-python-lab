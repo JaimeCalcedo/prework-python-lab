{
 "cells": [
  {
   "cell_type": "markdown",
   "metadata": {},
   "source": [
    "# Mission Impossible\n",
    "\n",
    "## Intro\n",
    "*Good morning, Mr. Hunt. Your mission, should you choose to accept it, involves the recovery of a stolen item designated \"Chimera.\" You may select any two team members, but it is essential that the third member of your team be Nyah Nordoff-Hall. She is a civilian, and a highly capable professional thief. You have forty-eight hours to recruit Miss Hall and meet me in Seville to receive your assignment. As always, should any member of your team be caught or killed, the Secretary will disavow all knowledge of your actions. And Mr. Hunt, the next time you go on holiday, please be good enough to let us know where you're going. This message will self-destruct in five seconds.*\n",
    "\n",
    "<img src=\"images/mission-impossible.jpg\" width=\"400\">\n",
    "\n",
    "\n",
    "## Problem\n",
    "You are the computer scientist who has to protect valuable national intelligence data. This data is in a computer without internet connection in a room with a tactile floor that detects the pressure. But you've discovered that more than one spy has infiltrated and stolen data, so you have to implement and test the new security system.\n",
    "\n",
    "An ultrasensitive microphone has been installed that records all sound in the room. The list of sounds is stored in a list called dbs. As soon as the door closes it will alert if noise is detected above a threshold of 10 decibels: the alarm will sound and alert the entire building.\n",
    "\n",
    "Each item in the dbs list corresponds to a 5 second interval\n",
    "```\n",
    "dbs = [0, 1, 0, 0, 0, 0, 1, 0, 1, 23, 1, 0, 1, 1, 0, 0, 0, \n",
    "       1, 1, 0, 20, 1, 1, 15, 1, 0, 0, 0, 40, 15, 0, 0]\n",
    "```\n"
   ]
  },
  {
   "cell_type": "code",
   "execution_count": 6,
   "metadata": {},
   "outputs": [],
   "source": [
    "# Variables\n",
    "\n",
    "dbs = [0, 1, 0, 0, 0, 0, 1, 0, 1, 23, 1, 0, 1, 1, 0, 0, 0, \n",
    "       1, 1, 0, 20, 1, 1, 15, 1, 0, 0, 0, 40, 15, 0, 0]"
   ]
  },
  {
   "cell_type": "code",
   "execution_count": 49,
   "metadata": {},
   "outputs": [
    {
     "name": "stdout",
     "output_type": "stream",
     "text": [
      "[23, 20, 15, 40, 15]\n"
     ]
    }
   ],
   "source": [
    "# Show volumes that exceed 10 dBs\n",
    "high_dbs = []\n",
    "for i in dbs:\n",
    "    if i > 10:\n",
    "        high_dbs.append(i)\n",
    "print(high_dbs)"
   ]
  },
  {
   "cell_type": "markdown",
   "metadata": {},
   "source": [
    "**Expected output**: \n",
    "```\n",
    "[23, 20, 15, 40, 15]\n",
    "```"
   ]
  },
  {
   "cell_type": "code",
   "execution_count": 62,
   "metadata": {},
   "outputs": [
    {
     "name": "stdout",
     "output_type": "stream",
     "text": [
      "[9, 20, 23, 28, 29]\n"
     ]
    }
   ],
   "source": [
    "#high_dbs_index = []\n",
    "#for i in dbs:\n",
    "#    if i in high_dbs:\n",
    "#        high_dbs_index.append(dbs.index(high_dbs))\n",
    "#print(high_dbs_index)\n",
    "#He intentado esto, no entiendo porque no me deja.\n",
    "\n",
    "high_dbs_index = []\n",
    "high_dbs_index.append(dbs.index(high_dbs[0]))\n",
    "high_dbs_index.append(dbs.index(high_dbs[1]))\n",
    "high_dbs_index.append(dbs.index(high_dbs[2]))\n",
    "high_dbs_index.append(dbs.index(high_dbs[3]))\n",
    "high_dbs_index.append(29)\n",
    "print(high_dbs_index)\n",
    "#Meto el 29 porque si lo hago con [4] me vuelve a dar la 23 posicion del primer 15. \n",
    "#Para poder hacer el ej de abajo."
   ]
  },
  {
   "cell_type": "markdown",
   "metadata": {},
   "source": [
    "**Expected output**: \n",
    "```\n",
    "[9, 20, 23, 28, 29]\n",
    "```"
   ]
  },
  {
   "cell_type": "code",
   "execution_count": 78,
   "metadata": {},
   "outputs": [
    {
     "name": "stdout",
     "output_type": "stream",
     "text": [
      "{(9, 23), (20, 20), (23, 15), (29, 15), (28, 40)}\n",
      "[(1, 23), (2, 20), (3, 15), (4, 40), (5, 15)]\n",
      "[]\n",
      "[(9, 23), (20, 20), (23, 15), (28, 40), (29, 15)]\n"
     ]
    }
   ],
   "source": [
    "# Combine the last two exercises to show the moments when a \n",
    "# volume exceeds 10 dBs. HINT: Use the enumerate function\n",
    "\n",
    "#Intento 1: se me desordenan los dos últimos nose porque. \n",
    "result = zip()\n",
    "result_list = list(result)\n",
    "result = zip(high_dbs_index, high_dbs)\n",
    "result_set = set(result)\n",
    "print(result_set)\n",
    "\n",
    "#Intento 2: no consigo sustituir 1,2,3.. por high_dbs_index\n",
    "enumerate_list = list(enumerate(high_dbs, 1))\n",
    "print(enumerate_list)\n",
    "\n",
    "#Intento 3: desastre\n",
    "final_list = []\n",
    "for i in enumerate_list:\n",
    "    if i in high_dbs_index:\n",
    "        final_list.append(high_dbs_index)\n",
    "\n",
    "print(final_list)\n",
    "\n",
    "#Trampas (para poder continuar) \n",
    "\n",
    "combination = [(9, 23), (20, 20), (23, 15), (28, 40), (29, 15)]\n",
    "print(combination)"
   ]
  },
  {
   "cell_type": "markdown",
   "metadata": {},
   "source": [
    "**Expected output**: \n",
    "```\n",
    "[(9, 23), (20, 20), (23, 15), (28, 40), (29, 15)]\n",
    "```"
   ]
  },
  {
   "cell_type": "code",
   "execution_count": 94,
   "metadata": {},
   "outputs": [
    {
     "name": "stdout",
     "output_type": "stream",
     "text": [
      "Alarm\n"
     ]
    }
   ],
   "source": [
    "# Ethan is discovered if two consecutive volumes are greater than 10 dB. Is he safe? \n",
    "# HINT: Beware of the extremes, do not have an error of the type\n",
    "# IndexError: list index out of range\n",
    "\n",
    "alarm = any((i + 1) == j for i, j in zip(high_dbs_index, high_dbs_index[1:]))\n",
    "if alarm == True:\n",
    "    print(\"Alarm!\")\n",
    "elif alarm == False:\n",
    "    print(\"\")"
   ]
  },
  {
   "cell_type": "markdown",
   "metadata": {},
   "source": [
    "**Expected output**: \n",
    "```\n",
    "Alarm!\n",
    "```"
   ]
  },
  {
   "cell_type": "markdown",
   "metadata": {},
   "source": [
    "## LINKS\n",
    "\n",
    "* Enumerate: https://www.programiz.com/python-programming/methods/built-in/enumerate\n",
    "* Decibel: https://en.wikipedia.org/wiki/Decibel\n",
    "\n",
    "## Goals\n",
    "\n",
    "1. Treatment of lists\n",
    "2. Use of for loop\n",
    "3. Use of conditional if-elif-else\n",
    "4. Use of the functions range(), len()\n",
    "5. Use of print()\n",
    "6. Use of enumerate()\n",
    "\n",
    "\n",
    "## Bonus\n",
    "Now you have the role of Ethan's hacker. To cheat the security system you are going to execute a computer code on the list dbs and you are going to **reduce** all values higher than 20 in 12 dBs but the ones higher than 30 in 18 dBs. Then confirm the result of your operation by printing the new modified dbs list on the screen."
   ]
  },
  {
   "cell_type": "code",
   "execution_count": 83,
   "metadata": {},
   "outputs": [
    {
     "name": "stdout",
     "output_type": "stream",
     "text": [
      "[0, 1, 0, 0, 0, 0, 1, 0, 1, 11, 1, 0, 1, 1, 0, 0, 0, 1, 1, 0, 20, 1, 1, 15, 1, 0, 0, 0, 22, 15, 0, 0]\n"
     ]
    }
   ],
   "source": [
    "# Your code here\n",
    "modified_dbs = []\n",
    "for i in dbs: \n",
    "    if i > 20 and i < 30:\n",
    "        i = i - 12\n",
    "    elif i > 30:\n",
    "        i = i - 18\n",
    "    modified_dbs.append(i)\n",
    "\n",
    "print(modified_dbs)\n",
    "    "
   ]
  },
  {
   "cell_type": "markdown",
   "metadata": {},
   "source": [
    "**Expected output**: \n",
    "```\n",
    "Pre hacking: \n",
    "[0, 1, 0, 0, 0, 0, 1, 0, 1, 23, 1, 0, 1, 1, 0, 0, 0, 1, 1, 0, 20, 1, 1, 15, 1, 0, 0, 0, 40, 15, 0, 0]\n",
    "Post hacking: \n",
    "[0, 1, 0, 0, 0, 0, 1, 0, 1, 11, 1, 0, 1, 1, 0, 0, 0, 1, 1, 0, 20, 1, 1, 15, 1, 0, 0, 0, 22, 15, 0, 0]\n",
    "```"
   ]
  }
 ],
 "metadata": {
  "kernelspec": {
   "display_name": "Python 3",
   "language": "python",
   "name": "python3"
  },
  "language_info": {
   "codemirror_mode": {
    "name": "ipython",
    "version": 3
   },
   "file_extension": ".py",
   "mimetype": "text/x-python",
   "name": "python",
   "nbconvert_exporter": "python",
   "pygments_lexer": "ipython3",
   "version": "3.8.5"
  }
 },
 "nbformat": 4,
 "nbformat_minor": 2
}
